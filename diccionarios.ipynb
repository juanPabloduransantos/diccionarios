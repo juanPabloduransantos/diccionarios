{
  "nbformat": 4,
  "nbformat_minor": 0,
  "metadata": {
    "colab": {
      "provenance": [],
      "authorship_tag": "ABX9TyPXO+vcs/jhfHRQLE1E+0Lv",
      "include_colab_link": true
    },
    "kernelspec": {
      "name": "python3",
      "display_name": "Python 3"
    },
    "language_info": {
      "name": "python"
    }
  },
  "cells": [
    {
      "cell_type": "markdown",
      "metadata": {
        "id": "view-in-github",
        "colab_type": "text"
      },
      "source": [
        "<a href=\"https://colab.research.google.com/github/juanPabloduransantos/diccionarios/blob/main/diccionarios.ipynb\" target=\"_parent\"><img src=\"https://colab.research.google.com/assets/colab-badge.svg\" alt=\"Open In Colab\"/></a>"
      ]
    },
    {
      "cell_type": "code",
      "execution_count": null,
      "metadata": {
        "id": "irFoS0QepX2E"
      },
      "outputs": [],
      "source": []
    },
    {
      "cell_type": "markdown",
      "source": [
        "# diccionarios\n",
        "\n",
        "- son datos estructurados, es decir,hacen referencia a una coleccion de datos\n",
        "\n",
        "- son una coleccion desordenada de pares de datos de la forma clave:valor,conocidos como elementos o items\n",
        "\n",
        "- son mutables,por lo tanto, una vez definido un diccionario se le pueden agregar nuevos elementos,modificar o eliminar algunos de los que ya tiene\n",
        "\n",
        "-tambien se les conoce como mapa o arreglos asociativos\n",
        "\n",
        "- en python los diccionarios son de tipi dict y se utiliza la siguiente sintaxis para crear una variable de este tipo:\n",
        "\n",
        "`nombre_dict ={clave1:valor1, clave2:2, ...}`\n",
        "\n",
        "- cada item o elemento tiene la forma clave:valor\n",
        "en cada item hay una clave y uno o mas valores. si se desconoce el valor, se puede llenar con `None`\n",
        "\n",
        "- los elementos del diccionario se indexan por la clave.\n",
        "\n",
        "- las claves solo pueden ser datos inmutables\n",
        "\n",
        "- las claves no pueden repetirse dentro de un diccionario\n"
      ],
      "metadata": {
        "id": "FWT0cBK4pekR"
      }
    },
    {
      "cell_type": "code",
      "source": [
        "# diccionario con clave tipo cadena\n",
        "\n",
        "num_meses = {'enero':1, 'febrero':2, 'marzo':3, 'abril':4, 'mayo':5, 'junio':6, 'julio':7, 'agosto':8, 'septiembre':9, 'octubre':10, 'noviembre':11, 'diciembre':12}\n",
        "print(num_meses)\n",
        "\n",
        "nombre_meses = {1:'enero', 2:'febrero', 3:'marzo', 4:'abril', 5:'mayo', 6:'junio', 7:'julio', 8:'agosto', 9:'septiembre', 10:'octubre', 11:'noviembre', 12:'diciembre'}\n",
        "print(nombre_meses)\n",
        "\n",
        "frutas = {\"manzana\":34, \"pera\":45, \"uva\":23}\n",
        "print(frutas)\n",
        "\n",
        "# agregar elementos\n",
        "frutas(\"cereza\") = 90\n",
        "print(frutas)\n",
        "\n",
        "# modificar un elemento\n",
        "frutas[\"cereza\"] = 100\n",
        "print(frutas)\n",
        "\n",
        "# eliminar un elemento\n",
        "del frutas[\"cereza\"]\n",
        "print(frutas)\n",
        "\n",
        "# consultar valor dada una clave\n",
        "print(\"el valor de manzana es: \", frutas[\"manzana\"])"
      ],
      "metadata": {
        "id": "BfzYuBTNtKL0"
      },
      "execution_count": null,
      "outputs": []
    }
  ]
}